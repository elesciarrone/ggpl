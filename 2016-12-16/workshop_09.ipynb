{
 "cells": [
  {
   "cell_type": "markdown",
   "metadata": {
    "collapsed": true
   },
   "source": [
    "## Workshop 08\n",
    "![roof1](https://github.com/elesciarrone/ggpl/blob/master/2016-12-16/roof1.png?raw=true)\n",
    "![roof1](https://github.com/elesciarrone/ggpl/blob/master/2016-12-16/roof2.png?raw=true)\n",
    "![roof1](https://github.com/elesciarrone/ggpl/blob/master/2016-12-16/roof3.png?raw=true)\n"
   ]
  },
  {
   "cell_type": "code",
   "execution_count": null,
   "metadata": {},
   "outputs": [],
   "source": [
    "from pyplasm import *\n",
    "\n",
    "# Definizione dele texture\n",
    "ROOF_TXT = \"./textures/roof.jpg\"\n",
    "FLOOR_TXT = \"./textures/floor.jpg\"\n",
    "\n",
    "par = 0.2\n",
    "\n",
    "# Definizione delle coordinate\n",
    "x = [1.0, 3.0, 9.0, 10.0, 12.0, 14.0, 16.0, 22.0, 24.0, 11.0]\n",
    "y = [2.0, 3.0, 4.0, 6.0, 7.0, 9.0, 10.0, 12.0, 13.0, 16.0, 14.0]\n",
    "z = [0.0, 2.0]\n",
    "\n",
    "vertsStruct = [\n",
    "  [x[0],y[1],z[0]],\n",
    "  [x[0],y[7],z[0]],\n",
    "  [x[2],y[7],z[0]],\n",
    "  [x[2],y[9],z[0]],\n",
    "  [x[8],y[9],z[0]],\n",
    "  [x[8],y[0],z[0]],\n",
    "  [x[5],y[0],z[0]],\n",
    "  [x[5],y[4],z[0]],\n",
    "  [x[1],y[3],z[1]],\n",
    "  [x[1],y[6],z[1]],\n",
    "  [x[9],y[6],z[1]],\n",
    "  [x[9],y[10],z[1]],\n",
    "  [x[7],y[10],z[1]],\n",
    "  [x[7],y[2],z[1]],\n",
    "  [x[6],y[2],z[1]],\n",
    "  [x[6],y[6],z[1]],\n",
    "]\n",
    "\n",
    "cellsStruct = [\n",
    "  [1,2,10,9],\n",
    "  [2,3,11,10],\n",
    "  [3,4,12,11],\n",
    "  [4,5,13,12],\n",
    "  [5,6,14,13],\n",
    "  [6,7,15,14],\n",
    "  [7,8,16,15],\n",
    "  [8,9,1 ,16]\n",
    "]\n",
    "\n",
    "cellsStructBorder = [[1,2],[2,3],[3,4],[4,5],[5,6],[6,7],[7,8],[8,1]]\n",
    "\n",
    "# Definizione delle celle e delle coordinate del tetto\n",
    "roof = MKPOL([vertsStruct, cellsStruct,[1]])\n",
    "roof = TEXTURE([ROOF_TXT, TRUE, FALSE, 1, 1, 0, 6, 6])(OFFSET([par, par, par])(SKEL_2(roof)))\n",
    "\n",
    "# Definizione della pavimentazione del tetto\n",
    "floor = MKPOL([vertsStruct, [[9,10,16],[13,14,15,16],[11,12,13,16]],[1]])\n",
    "floor = TEXTURE([FLOOR_TXT, TRUE, FALSE, 1, 1, 0, 6, 6])(OFFSET([par, par, par])(SKEL_2(floor)))\n",
    "\n",
    "completeRoof = STRUCT([roof, floor])\n",
    "\n",
    "VIEW(completeRoof)"
   ]
  }
 ],
 "metadata": {
  "kernelspec": {
   "display_name": "Python 2",
   "language": "python",
   "name": "python2"
  },
  "language_info": {
   "codemirror_mode": {
    "name": "ipython",
    "version": 2
   },
   "file_extension": ".py",
   "mimetype": "text/x-python",
   "name": "python",
   "nbconvert_exporter": "python",
   "pygments_lexer": "ipython2",
   "version": "2.7.6"
  }
 },
 "nbformat": 4,
 "nbformat_minor": 0
}
