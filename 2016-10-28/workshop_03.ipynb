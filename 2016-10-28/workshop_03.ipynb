{
 "cells": [
  {
   "cell_type": "markdown",
   "metadata": {
    "collapsed": true
   },
   "source": [
    "## Workshop 03\n",
    "![stairs1](https://github.com/elesciarrone/ggpl/blob/master/2016-10-28/stairs1.jpg?raw=true)\n",
    "![stairs2](https://github.com/elesciarrone/ggpl/blob/master/2016-10-28/stairs2.PNG?raw=true)"
   ]
  },
  {
   "cell_type": "code",
   "execution_count": null,
   "metadata": {},
   "outputs": [],
   "source": [
    "from pyplasm import *\n",
    "\n",
    "riser = 0.15\n",
    "tread = 0.25\n",
    "platform = 0.75\n",
    "width = 1.5\n",
    "wall_width = 0.4\n",
    "\n",
    "num_stairsFA = 4\n",
    "num_stairsDO = 3\n",
    "num_platform = 2\n",
    "lof = 3\n",
    "\n",
    "x_stairs = QUOTE([tread, -0.0])\n",
    "y_stairs = QUOTE([width])\n",
    "z_stairs = QUOTE([riser, -0.0])\n",
    "y_platform = QUOTE([platform, -0.0])\n",
    "stair = INSR(PROD)([y_stairs, x_stairs, z_stairs])\n",
    "big_stairs = INSR(PROD)([y_stairs, y_platform, z_stairs])\n",
    "\n",
    "x_key = QUOTE([tread/2, -tread/2])\n",
    "y_key = QUOTE([width/2, -width/2])\n",
    "z_key = QUOTE([riser/2, -riser/2])\n",
    "key = INSR(PROD)([y_key, x_key, z_key])\n",
    "\n",
    "x_wall = QUOTE([-width, wall_width])\n",
    "y_wall = QUOTE([((num_platform*platform)+(num_stairsDO+num_stairsFA)*tread)*lof])\n",
    "z_wall = QUOTE([((num_platform+num_stairsDO+num_stairsFA)*lof-1)*riser+2.5])\n",
    "wall = INSR(PROD)([x_wall, y_wall, z_wall])\n",
    "\n",
    "stair_key = STRUCT([COLOR(WHITE), stair, T(3)(riser/2), COLOR(BLACK), key])\n",
    "stairDO = STRUCT([COLOR(WHITE), stair, T([2, 3])([tread, riser]), stair_key]*(num_stairsDO-1))\n",
    "stairFA = STRUCT([COLOR(WHITE), stair, T([2, 3])([tread, riser]), stair_key]*(num_stairsFA-1))\n",
    "\n",
    "stairs = STRUCT([T(3)(-riser), COLOR(WHITE), big_stairs, T([2, 3])([platform, riser]), stairDO, T([2, 3])([tread*3, riser*3]), COLOR(WHITE), big_stairs, T([2, 3])([platform, riser]), stairFA, T([2, 3])([tread*4, riser*4+riser])]*lof)\n",
    "\n",
    "VIEW(STRUCT([stairs, COLOR(GRAY), wall]))"
   ]
  }
 ],
 "metadata": {
  "kernelspec": {
   "display_name": "Python 2",
   "language": "python",
   "name": "python2"
  },
  "language_info": {
   "codemirror_mode": {
    "name": "ipython",
    "version": 2
   },
   "file_extension": ".py",
   "mimetype": "text/x-python",
   "name": "python",
   "nbconvert_exporter": "python",
   "pygments_lexer": "ipython2",
   "version": "2.7.6"
  }
 },
 "nbformat": 4,
 "nbformat_minor": 0
}
