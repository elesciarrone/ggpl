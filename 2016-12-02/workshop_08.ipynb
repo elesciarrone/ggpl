{
 "cells": [
  {
   "cell_type": "code",
   "execution_count": null,
   "metadata": {
    "collapsed": true
   },
   "outputs": [],
   "source": [
    "## Workshop 08\n",
    "![home1](https://github.com/elesciarrone/ggpl/blob/master/2016-12-02/project.png?raw=true)\n",
    "![home2](https://github.com/elesciarrone/ggpl/blob/master/2016-12-02/home1.png?raw=true)\n",
    "![home3](https://github.com/elesciarrone/ggpl/blob/master/2016-12-02/home2.png?raw=true)\n",
    "![home4](https://github.com/elesciarrone/ggpl/blob/master/2016-12-02/home3.png?raw=true)\n",
    "![home5](https://github.com/elesciarrone/ggpl/blob/master/2016-12-02/home4.png?raw=true)"
   ]
  },
  {
   "cell_type": "code",
   "execution_count": null,
   "metadata": {},
   "outputs": [],
   "source": [
    "from pyplasm import *\n",
    "from larlib import *\n",
    "\n",
    "# Perimetro\n",
    "lines = lines2lines(\"./lines/perimeter.lines\")\n",
    "plan = STRUCT(AA(POLYLINE)(lines))\n",
    "plan = OFFSET([10,10])(plan)\n",
    "height = QUOTE([100])\n",
    "perimeter = PROD([plan,height])\n",
    "\n",
    "# Muri interni\n",
    "lines = lines2lines(\"./lines/internal.lines\")\n",
    "plan = STRUCT(AA(POLYLINE)(lines))\n",
    "plan = OFFSET([5,5])(plan)\n",
    "height = QUOTE([100])\n",
    "internal = PROD([plan,height])\n",
    "\n",
    "# Porte\n",
    "lines = lines2lines(\"./lines/doors.lines\")#acquisizione dei punti dal file di interesse\n",
    "plan = STRUCT(AA(POLYLINE)(lines))#costruzione 3d della struttura\n",
    "plan = OFFSET([14,20])(plan)#funzione per migliorare le dimensioni x,y e la visualizzazione\n",
    "height = QUOTE([90])#funzione utilizzata per alzare l'altezza della struttura\n",
    "doors = PROD([plan,height])#oggetto 3d del box delle porte\n",
    "\n",
    "# Finestre\n",
    "lines = lines2lines(\"./lines/windows.lines\")#acquisizione dei punti dal file di interesse\n",
    "plan = STRUCT(AA(POLYLINE)(lines))#costruzione 3d della struttura\n",
    "plan = OFFSET([45,12])(plan)#funzione per migliorare le dimensioni x,y e la visualizzazione\n",
    "height = QUOTE([40])#funzione utilizzata per alzare l'altezza della struttura\n",
    "windows = PROD([plan,height])#oggetto 3d dei box delle finestre\n",
    "window = []#oggetto finestra\n",
    "window.append(T([1,2,3])([0,0,40]))#traslazione dei box verso l'alto\n",
    "window.append(plan3dWindow)#oggetto 3d del box delle finestre\n",
    "\n",
    "# Pavimento\n",
    "lines = lines2lines(\"./lines/floor.lines\")\n",
    "plan = STRUCT(AA(POLYLINE)(lines))\n",
    "plan = OFFSET([10,10])(plan)\n",
    "height = QUOTE([1])\n",
    "floor = PROD([plan,height])\n",
    "\n",
    "# Costruzione dei muri con alloggiamenti per porte e finestre\n",
    "sub = STRUCT([STRUCT(window),doors])\n",
    "externalStruct =DIFFERENCE([perimeter,sub])\n",
    "internalStruct =DIFFERENCE([internal),sub])\n",
    "\n",
    "# Definizione delle texture\n",
    "EXT_WALL_TXT = TEXTURE(\"./textures/ext_wall_txt.jpg\")\n",
    "INT_WALL_TXT = TEXTURE(\"./textures/int_wall_txt.jpg\")\n",
    "FLOOR_TXT = TEXTURE(\"./textures/floor_txt.jpg\")\n",
    "\n",
    "# Vista della casa\n",
    "VIEW(STRUCT([EXT_WALL_TXT(externalStruct),FLOOR_TXT(floor),INT_WALL_TXT(internalStruct)]))"
   ]
  }
 ],
 "metadata": {
  "kernelspec": {
   "display_name": "Python 2",
   "language": "python",
   "name": "python2"
  },
  "language_info": {
   "codemirror_mode": {
    "name": "ipython",
    "version": 2
   },
   "file_extension": ".py",
   "mimetype": "text/x-python",
   "name": "python",
   "nbconvert_exporter": "python",
   "pygments_lexer": "ipython2",
   "version": "2.7.6"
  }
 },
 "nbformat": 4,
 "nbformat_minor": 0
}
