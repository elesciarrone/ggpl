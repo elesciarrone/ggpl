{
 "cells": [
  {
   "cell_type": "markdown",
   "metadata": {
    "collapsed": true
   },
   "source": [
    "## Workshop 01\n",
    "![sketch1](https://github.com/elesciarrone/ggpl/blob/master/2016-10-14/sketch1.png?raw=true)\n",
    "![sketch2](https://github.com/elesciarrone/ggpl/blob/master/2016-10-14/sketch2.png?raw=true)"
   ]
  },
  {
   "cell_type": "code",
   "execution_count": null,
   "metadata": {
    "collapsed": true
   },
   "outputs": [],
   "source": [
    "from pyplasm import *\n",
    "\n",
    "def create(beamSection, pillarSection,distanceBetweenPillar, interstoryHeight):\n",
    "    \n",
    "    #memorizzo in bx,bz le dimesioni della trave, mentre in px,py le dimensioni del pilastro\n",
    "    bx = beamSection[0]\n",
    "    bz = beamSection[1]\n",
    "    px = pillarSection[0]\n",
    "    py = pillarSection[1]\n",
    "    \n",
    "    #calcolo la dimensione del basamento si x,y, z\n",
    "    baseX = px*3\n",
    "    baseY = py*3\n",
    "    baseZ = interstoryHeight[0]/3.\n",
    "    \n",
    "    #definisco tre liste per i pilastri, tre liste per le travi e tre liste per basamenti, ognuna relativa alle dimensioni x,y e z\n",
    "    xPillars = [-((baseX/2.)-(bx/2.))]\n",
    "    yPillars = [-((baseY/2.)-(py/2.))]\n",
    "    zPillars = [-baseZ]\n",
    "    xBeams = [-((baseX/2.)-(bx/2.)),bx]\n",
    "    yBeams = [-((baseY/2.)-(py/2.))]\n",
    "    zBeams = [-baseZ]\n",
    "    xFootings = []\n",
    "    yFootings = []\n",
    "    zFootings = [baseZ]\n",
    "    length = 0\n",
    "    \n",
    "    #costruisco le liste relative ai basamenti della struttura: i valori positivi sono i basamenti, i valori negativi sono gli spazi tra i basamenti\n",
    "    for i in distanceBetweenPillar:\n",
    "        yFootings = yFootings+[baseY,-(i-(baseY-py))]\n",
    "    xFootings = xFootings+[baseX]\n",
    "    yFootings = yFootings+[baseY]\n",
    "    \n",
    "    #costruisco le liste relative ai pilastri della struttura: i valori positivi sono i pilastri, i valori negativi sono gli spazi tra i pilastri\n",
    "    for i in distanceBetweenPillar:\n",
    "        yPillars = yPillars+[py,-i]\n",
    "        length=length+i+py\n",
    "    xPillars = xPillars+[px]\n",
    "    \n",
    "    #costruisco le liste relative alle travi della struttura: i valori positivi sono le travi, quelli negativi sono gli spazi tra le travi \n",
    "    for i in interstoryHeight:\n",
    "        zPillars = zPillars+[i,-bz]\n",
    "        zBeams = zBeams+[-i,bz]\n",
    "    yBeams = yBeams+[length+py] \n",
    "    yPillars = yPillars+[py]\n",
    "    \n",
    "    #costruzione basamenti \n",
    "    appFootings = PROD([QUOTE(yFootings),QUOTE(zFootings)])\n",
    "    footings = COLOR(WHITE)(PROD([QUOTE(xFootings),appFootings])) \n",
    "    \n",
    "    #costruzione piloni \n",
    "    appPillars = PROD([QUOTE(yPillars),QUOTE(zPillars)])\n",
    "    pillars = COLOR(GRAY)(PROD([QUOTE(xPillars),appPillars]))\n",
    "    \n",
    "    #costruzione travi\n",
    "    appBeams = PROD([QUOTE(yBeams),QUOTE(zBeams)])\n",
    "    beams = COLOR(WHITE)(PROD([QUOTE(xBeams),appBeams]))\n",
    "    \n",
    "    #costruzione struttura finale\n",
    "    structure = STRUCT([pillars,beams,footings])\n",
    "    return structure\n",
    "\n",
    "VIEW(create((.3,.3),(.3,.3),[1,1,5,2,1],[2,2,5,1,1]))"
   ]
  },
  {
   "cell_type": "code",
   "execution_count": null,
   "metadata": {
    "collapsed": true
   },
   "outputs": [],
   "source": []
  }
 ],
 "metadata": {
  "kernelspec": {
   "display_name": "Python 2",
   "language": "python",
   "name": "python2"
  },
  "language_info": {
   "codemirror_mode": {
    "name": "ipython",
    "version": 2
   },
   "file_extension": ".py",
   "mimetype": "text/x-python",
   "name": "python",
   "nbconvert_exporter": "python",
   "pygments_lexer": "ipython2",
   "version": "2.7.13"
  }
 },
 "nbformat": 4,
 "nbformat_minor": 1
}
